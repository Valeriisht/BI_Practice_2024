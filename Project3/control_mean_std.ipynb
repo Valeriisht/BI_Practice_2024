{
 "cells": [
  {
   "cell_type": "markdown",
   "metadata": {},
   "source": [
    "## Рассчет среднего и стандартного отклонения по частоте в каждом из контрольных образцов\n"
   ]
  },
  {
   "cell_type": "code",
   "execution_count": 24,
   "metadata": {},
   "outputs": [],
   "source": [
    "import numpy as np\n",
    "import pandas as pd"
   ]
  },
  {
   "cell_type": "code",
   "execution_count": 25,
   "metadata": {},
   "outputs": [],
   "source": [
    "dir_control1 = \"/Users/valeriaistuganova/Desktop/BioInf/project2/BioProject2/Control1/\"\n",
    "dir_control2 = \"/Users/valeriaistuganova/Desktop/BioInf/project2/BioProject2/Control2/\"\n",
    "dir_control3 = \"/Users/valeriaistuganova/Desktop/BioInf/project2/BioProject2/Control3/\"\n",
    "dir_sample = \"/Users/valeriaistuganova/Desktop/BioInf/project2/BioProject2/Sample/\""
   ]
  },
  {
   "cell_type": "markdown",
   "metadata": {},
   "source": [
    "## Читаем файл"
   ]
  },
  {
   "cell_type": "code",
   "execution_count": 26,
   "metadata": {},
   "outputs": [],
   "source": [
    "from Parsing_vcf import read_vcf\n",
    "\n",
    "control1 = read_vcf(dir_control1 + \"VarScan_SRR1705858_results.vcf\")\n",
    "control2 = read_vcf(dir_control2 + \"VarScan_SRR1705859_results.vcf\")\n",
    "control3 = read_vcf(dir_control3 + \"VarScan_SRR1705860_results.vcf\")\n",
    "sample = read_vcf(dir_sample + \"VarScan_low_results.vcf\")\n",
    "sample_up = read_vcf(dir_sample + \"VarScan_up_results.vcf\")"
   ]
  },
  {
   "cell_type": "markdown",
   "metadata": {},
   "source": [
    "## Выделяем частоту из последней колонки"
   ]
  },
  {
   "cell_type": "code",
   "execution_count": 27,
   "metadata": {},
   "outputs": [],
   "source": [
    "control1[\"Sample1\"] = pd.to_numeric(control1[\"Sample1\"].str.split(\":\").str[6].str[:-1].str.replace(\",\", \".\", regex=False))\n",
    "control2[\"Sample1\"] = pd.to_numeric(control2[\"Sample1\"].str.split(\":\").str[6].str[:-1].str.replace(\",\", \".\", regex=False))\n",
    "control3[\"Sample1\"] = pd.to_numeric(control3[\"Sample1\"].str.split(\":\").str[6].str[:-1].str.replace(\",\", \".\", regex=False))\n",
    "sample[\"Sample1\"] = pd.to_numeric(sample[\"Sample1\"].str.split(\":\").str[6].str[:-1].str.replace(\",\", \".\", regex=False))\n",
    "sample_up[\"Sample1\"] = pd.to_numeric(sample_up[\"Sample1\"].str.split(\":\").str[6].str[:-1].str.replace(\",\", \".\", regex=False))\n"
   ]
  },
  {
   "cell_type": "markdown",
   "metadata": {},
   "source": [
    "## Удаляем не нужное "
   ]
  },
  {
   "cell_type": "code",
   "execution_count": 28,
   "metadata": {},
   "outputs": [],
   "source": [
    "control1.drop(columns = [\"FORMAT\", \"INFO\", \"ID\", \"QUAL\"], inplace=True)\n",
    "control2.drop(columns = [\"FORMAT\", \"INFO\", \"ID\", \"QUAL\"], inplace=True)\n",
    "control3.drop(columns = [\"FORMAT\", \"INFO\", \"ID\", \"QUAL\"], inplace=True)\n",
    "sample.drop(columns = [\"FORMAT\", \"INFO\", \"ID\", \"QUAL\"], inplace=True)\n",
    "sample_up.drop(columns = [\"FORMAT\", \"INFO\", \"ID\", \"QUAL\"], inplace=True)"
   ]
  },
  {
   "cell_type": "markdown",
   "metadata": {},
   "source": [
    "## Переименовываем колонку"
   ]
  },
  {
   "cell_type": "code",
   "execution_count": 29,
   "metadata": {},
   "outputs": [],
   "source": [
    "control1.rename(columns={'Sample1': 'Frequency'}, inplace=True)\n",
    "control2.rename(columns={'Sample1': 'Frequency'}, inplace=True)\n",
    "control3.rename(columns={'Sample1': 'Frequency'}, inplace=True)\n",
    "sample.rename(columns={'Sample1': 'Frequency'}, inplace=True)\n",
    "sample_up.rename(columns={'Sample1': 'Frequency'}, inplace=True)\n",
    "\n"
   ]
  },
  {
   "cell_type": "markdown",
   "metadata": {},
   "source": [
    "## Ищем среднее и стандартное отклонение "
   ]
  },
  {
   "cell_type": "code",
   "execution_count": 30,
   "metadata": {},
   "outputs": [],
   "source": [
    "mean1 = control1[\"Frequency\"].mean()\n",
    "mean2 = control2[\"Frequency\"].mean()\n",
    "mean3 = control3[\"Frequency\"].mean()\n",
    "means = [mean1, mean2, mean3]"
   ]
  },
  {
   "cell_type": "code",
   "execution_count": 31,
   "metadata": {},
   "outputs": [],
   "source": [
    "std1 = control1[\"Frequency\"].std()\n",
    "std2 = control2[\"Frequency\"].std()\n",
    "std3 = control3[\"Frequency\"].std()\n",
    "stds = [std1, std2, std3]"
   ]
  },
  {
   "cell_type": "markdown",
   "metadata": {},
   "source": [
    "## Создаем таблицу"
   ]
  },
  {
   "cell_type": "code",
   "execution_count": 32,
   "metadata": {},
   "outputs": [],
   "source": [
    "table_means = pd.DataFrame({\n",
    "    \"Means\": means,\n",
    "    \"Std\": stds\n",
    "})\n"
   ]
  },
  {
   "cell_type": "markdown",
   "metadata": {},
   "source": [
    "## Находим пороговое значение для фильтрации"
   ]
  },
  {
   "cell_type": "code",
   "execution_count": 33,
   "metadata": {},
   "outputs": [],
   "source": [
    "table_means[\"threshold1\"] = table_means[\"Means\"] + 3*table_means[\"Std\"]\n",
    "table_means[\"threshold2\"] = table_means[\"Means\"] - 3*table_means[\"Std\"]\n",
    "threshold1 = table_means[\"threshold1\"].mean()\n",
    "threshold2 = table_means[\"threshold2\"].mean()"
   ]
  },
  {
   "cell_type": "markdown",
   "metadata": {},
   "source": [
    "## Фильтруем Sample"
   ]
  },
  {
   "cell_type": "code",
   "execution_count": 34,
   "metadata": {},
   "outputs": [],
   "source": [
    "filtered_sample = sample.query('(Frequency > @threshold1 or Frequency < @threshold2) and Frequency < 1')\n",
    "filtered_sample\n",
    "filtered_sample.to_csv('filtered_sample.csv', index=False)"
   ]
  },
  {
   "cell_type": "code",
   "execution_count": 36,
   "metadata": {},
   "outputs": [],
   "source": [
    "sample_up.to_csv('sample_up.csv', index=False)\n",
    "sample.to_csv('sample_low.csv', index=False)"
   ]
  }
 ],
 "metadata": {
  "kernelspec": {
   "display_name": "pythonIB",
   "language": "python",
   "name": "python3"
  },
  "language_info": {
   "codemirror_mode": {
    "name": "ipython",
    "version": 3
   },
   "file_extension": ".py",
   "mimetype": "text/x-python",
   "name": "python",
   "nbconvert_exporter": "python",
   "pygments_lexer": "ipython3",
   "version": "3.13.0"
  }
 },
 "nbformat": 4,
 "nbformat_minor": 2
}
